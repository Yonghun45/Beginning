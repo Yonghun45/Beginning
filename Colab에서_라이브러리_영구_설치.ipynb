{
  "nbformat": 4,
  "nbformat_minor": 0,
  "metadata": {
    "colab": {
      "provenance": [],
      "mount_file_id": "1W5ldGVidqyPYSoXtOoHq9lBH7MXe8jVg",
      "authorship_tag": "ABX9TyM6qiK3SNorryM661Ns1/b9",
      "include_colab_link": true
    },
    "kernelspec": {
      "name": "python3",
      "display_name": "Python 3"
    },
    "language_info": {
      "name": "python"
    }
  },
  "cells": [
    {
      "cell_type": "markdown",
      "metadata": {
        "id": "view-in-github",
        "colab_type": "text"
      },
      "source": [
        "<a href=\"https://colab.research.google.com/github/Yonghun45/Beginning/blob/master/Colab%EC%97%90%EC%84%9C_%EB%9D%BC%EC%9D%B4%EB%B8%8C%EB%9F%AC%EB%A6%AC_%EC%98%81%EA%B5%AC_%EC%84%A4%EC%B9%98.ipynb\" target=\"_parent\"><img src=\"https://colab.research.google.com/assets/colab-badge.svg\" alt=\"Open In Colab\"/></a>"
      ]
    },
    {
      "cell_type": "code",
      "execution_count": null,
      "metadata": {
        "id": "2BmbA0P-JZ7_"
      },
      "outputs": [],
      "source": [
        "# Google Colab에 Permanent하게 패키지를 설치하기 - Google Drive에 특정 폴더에 라이브러리 설치\n",
        "# 반드시 새로운 Colab 세션을 열거나, 재시작할 때 아래코드를 실행\n",
        "\n",
        "import os, sys\n",
        "from google.colab import drive\n",
        "drive.mount('/content/drive')\n",
        "\n",
        "my_path = '/content/my_env'\n",
        "save_path = '/content/drive/My Drive/Colab Notebooks/my_env'\n",
        "\n",
        "# Colab Notebooks 안에 my_env 폴더를 사전에 생성한 후에 패키지 저장\n",
        "os.symlink(save_path, my_path)\n",
        "sys.path.insert(0, my_path)"
      ]
    },
    {
      "cell_type": "code",
      "source": [
        "# 위에 연결한 폴더에 팩키지 설치 : !pip install --target=$my_path 팩키지\n",
        "!pip install --target=$my_path xlwings"
      ],
      "metadata": {
        "id": "SVFSn1O7KaNj"
      },
      "execution_count": null,
      "outputs": []
    }
  ]
}