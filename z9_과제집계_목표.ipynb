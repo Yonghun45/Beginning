{
  "nbformat": 4,
  "nbformat_minor": 0,
  "metadata": {
    "colab": {
      "provenance": [],
      "toc_visible": true,
      "mount_file_id": "1QsRiW2crVq4JErd6mLIJBCu-3EUjAXZe",
      "authorship_tag": "ABX9TyM57kglIU+hWjAgNyIo40uv",
      "include_colab_link": true
    },
    "kernelspec": {
      "name": "python3",
      "display_name": "Python 3"
    },
    "language_info": {
      "name": "python"
    }
  },
  "cells": [
    {
      "cell_type": "markdown",
      "metadata": {
        "id": "view-in-github",
        "colab_type": "text"
      },
      "source": [
        "<a href=\"https://colab.research.google.com/github/Yonghun45/Beginning/blob/master/z9_%EA%B3%BC%EC%A0%9C%EC%A7%91%EA%B3%84_%EB%AA%A9%ED%91%9C.ipynb\" target=\"_parent\"><img src=\"https://colab.research.google.com/assets/colab-badge.svg\" alt=\"Open In Colab\"/></a>"
      ]
    },
    {
      "cell_type": "code",
      "execution_count": null,
      "metadata": {
        "id": "R9QghHltf8GQ"
      },
      "outputs": [],
      "source": [
        "import win32com.client\n",
        "\n",
        "path = \"D:\\\\1-Data\\\\참조자료\\\\221222-23년 개선과제\\\\\"\n",
        "frfilenm = \"0-2023년 화성 개선_KPI 과제.xlsx\"\n",
        "\n",
        "excel = win32com.client.Dispatch(\"Excel.Application\")   # win32com 을 통한 Excel 객체 실행\n",
        "# excel.Application.EnableEvents = False\n",
        "# excel.DisplayAlerts = False                             # Suppress any Alert windows, which require User action\n",
        "# excel.AskToUpdateLinks = False                          # Disable automatic update linking\n",
        "excel.Visible = True                                    # Run the Application in the background\n",
        "\n",
        "# wbfr = excel.Workbooks.Open(path + frfilenm)            # win32com 을 통한 excel 파일 열기    - 15~40초 소요 (옵션 실행 시 시간 증가)\n",
        "wbfr = excel.Workbooks(frfilenm)                          # win32com 을 통해 해당 파일 할당 - 해당 파일이 이미 열려있을 경우\n",
        "\n",
        "# Workbook을 열어서 작업하면 Save, Close 및 Quit할 때 보안문제로 작업한 것이 저장되지 않고 엑셀 닫힘.\n",
        "# 따라서, 엑셀을 사전에 열어 작업 후 Workbook Save 까지만 실행함."
      ]
    },
    {
      "cell_type": "code",
      "source": [
        "# 계획 Data를 Copy하여 과제집계 시트 구성 #\n",
        "\n",
        "j = 1\n",
        "while wbfr.Sheets(j).Name != \"SM-1\":\n",
        "    j = j + 1\n",
        "\n",
        "Tasks = {} # wbfr.Sheets.Count + 1\n",
        "Tvalues = []\n",
        "for i in range(j, wbfr.Sheets.Count + 1):  # 맨 마지막 Sheet는 제외하므로, Sheets.Count 적용. 마지막 Sheet 포함시 +1 해야 함.\n",
        "        \n",
        "    wsfr = wbfr.Sheets(i)\n",
        "    과제Code = wsfr.Name\n",
        "    적용 = wsfr.Range(\"C2\").Value\n",
        "    과제명 = wsfr.Range(\"C3\").Value\n",
        "    개선영역 = wsfr.Range(\"C4\").Value\n",
        "    부서 = wsfr.Range(\"C5\").Value\n",
        "    구분 = wsfr.Range(\"C6\").Value[:2]\n",
        "    기간 = wsfr.Range(\"C7\").Value\n",
        "    추진자 = wsfr.Range(\"C8\").Value\n",
        "    내용 = wsfr.Range(\"C9\").Value\n",
        "    if 개선영역[개선영역.find(\"(\")+1:개선영역.find(\")\")] == \"억원\":\n",
        "        단위 = \"천원\"\n",
        "    else:\n",
        "        단위 = 개선영역[개선영역.find(\"(\")+1:개선영역.find(\")\")]\n",
        "    목표 = wsfr.Range(\"S4\").Value\n",
        "    Tvalues = wsfr.Range(\"G4:R4\").Value\n",
        "    Tasks[과제Code] = [적용, 부서, 추진자, 구분, 기간, 과제명, 개선영역, 내용, 단위, 목표, Tvalues]\n",
        "\n",
        "# print(Tasks, Tasks.keys()) \n",
        "\n",
        "wsto = wbfr.Worksheets(\"과제집계\")\n",
        "\n",
        "i = 1\n",
        "for key, value in Tasks.items():\n",
        "    wsto.Range(\"C{}\".format(str(i + 3))).Value = key\n",
        "    wsto.Range(\"D{}:M{}\".format(str(i + 3),str(i + 3))).Value = value[:10]\n",
        "    # wsto.Range(\"M\" + str(i + 3)).Value = value[8]\n",
        "    wsto.Range(\"W\" + str(i + 3), \"AH\" + str(i + 3)).Value = value[10]\n",
        "    \n",
        "    wsto.Hyperlinks.Add(Anchor = wsto.Range(\"C{}\".format(str(i + 3))),\n",
        "                             Address=\"\",\n",
        "                             SubAddress=\"'\" + key + \"'!A1\",\n",
        "                             TextToDisplay=key)\n",
        "    \n",
        "    wsto.Range(\"C\" + str(i + 3)).Font.Color = -52429\n",
        "    wsto.Range(\"C\" + str(i + 3)).HorizontalAlignment = 3     # 1 : 데이터 타입에 따른 정렬(숫자 오른쪽, 문자 왼쪽), 2 : 왼쪽, 3 : 가운데, 4 : 오른쪽\n",
        "    wsto.Range(\"C\" + str(i + 3)).VerticalAlignment = 2       # 1 : 위, 2 : 가운데, 3 : 아래\n",
        "    wsto.Range(\"C\" + str(i + 3)).Font.Bold = True\n",
        "\n",
        "    i += 1"
      ],
      "metadata": {
        "id": "Yspioo2WhJLt"
      },
      "execution_count": null,
      "outputs": []
    },
    {
      "cell_type": "code",
      "source": [
        "wbfr.Save()\n",
        "# wbfr.Close()\n",
        "\n",
        "# excel.Application.EnableEvents = True\n",
        "# excel.DisplayAlerts = True              # Suppress any Alert windows, which require User action\n",
        "# excel.AskToUpdateLinks = True           # Disable automatic update linking\n",
        "excel.Visible = True                    # Run the Application in the background\n",
        "\n",
        "# excel.Quit()\n",
        "\n",
        "print(\"작업이 완료되었습니다.\")"
      ],
      "metadata": {
        "id": "xa29WRqYhcix"
      },
      "execution_count": null,
      "outputs": []
    },
    {
      "cell_type": "markdown",
      "source": [
        "# 새 섹션"
      ],
      "metadata": {
        "id": "JxaAitgxgc0t"
      }
    }
  ]
}